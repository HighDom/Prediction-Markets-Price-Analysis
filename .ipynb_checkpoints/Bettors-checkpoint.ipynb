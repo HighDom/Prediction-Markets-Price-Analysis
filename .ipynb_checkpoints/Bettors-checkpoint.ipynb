{
 "cells": [
  {
   "cell_type": "code",
   "execution_count": null,
   "id": "15d3860f-4e8a-4cf1-81c1-eedd2832678d",
   "metadata": {},
   "outputs": [],
   "source": [
    "import pandas as pd\n",
    "\n",
    "df_list = []\n",
    "for filename in ['logs_4M.csv', 'logs_5M.csv', ...]:\n",
    "    df = pd.read_csv(f'conditional_tokens/{filename}')\n",
    "    df_list.append(df)\n",
    "data = pd.concat(df_list)\n",
    "\n",
    "\n"
   ]
  },
  {
   "cell_type": "code",
   "execution_count": 1,
   "id": "d795e523-5566-4b62-b9e1-ba86cb8ce6e8",
   "metadata": {},
   "outputs": [],
   "source": [
    "from web3 import Web3\n",
    "import json\n",
    "\n",
    "\n",
    "w3 = Web3()\n",
    "\n",
    "with open('abi/ConditionalTokens.json') as f:\n",
    "    abi = json.load(f)\n",
    "\n",
    "contract = w3.eth.contract(address='0x4bFb41d5B3570DeFd03C39a9A4D8dE6Bd8B8982E', abi=abi)\n"
   ]
  },
  {
   "cell_type": "code",
   "execution_count": null,
   "id": "29a2d834-c977-431a-94a6-92e95d2365d9",
   "metadata": {},
   "outputs": [],
   "source": []
  }
 ],
 "metadata": {
  "kernelspec": {
   "display_name": "Python (venv)",
   "language": "python",
   "name": "venv"
  },
  "language_info": {
   "codemirror_mode": {
    "name": "ipython",
    "version": 3
   },
   "file_extension": ".py",
   "mimetype": "text/x-python",
   "name": "python",
   "nbconvert_exporter": "python",
   "pygments_lexer": "ipython3",
   "version": "3.11.5"
  }
 },
 "nbformat": 4,
 "nbformat_minor": 5
}
